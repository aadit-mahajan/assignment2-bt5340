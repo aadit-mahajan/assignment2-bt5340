{
  "cells": [
    {
      "cell_type": "code",
      "execution_count": 415,
      "metadata": {
        "id": "x9dl-QvnxvAk"
      },
      "outputs": [],
      "source": [
        "import numpy as np\n",
        "import math\n",
        "import concurrent.futures "
      ]
    },
    {
      "cell_type": "code",
      "execution_count": 416,
      "metadata": {
        "id": "Ssc4haJFxvAq"
      },
      "outputs": [],
      "source": [
        "def generate_microstates(n):\n",
        "    states = [list(format(i, f'0{n}b')) for i in range(2**n)]\n",
        "    return {tuple(map(int, state)) for state in states}\n",
        "    #return states"
      ]
    },
    {
      "cell_type": "code",
      "execution_count": 417,
      "metadata": {
        "id": "4bqgndnExvAs"
      },
      "outputs": [],
      "source": [
        "S_REF = 1.2\n",
        "T_REF = 298\n",
        "SIGMA = 0.001\n",
        "R = 8.314\n",
        "LO_THRESH = 2\n",
        "HI_THRESH = 13\n",
        "\n",
        "def get_s_temp(temp, s_ref=S_REF):\n",
        "    s = math.pow(s_ref, (T_REF/temp))\n",
        "    return s\n",
        "\n",
        "def calc_penalty(state, s_temp):\n",
        "    state = [1 if int(i) == 1 else 0 for i in state]\n",
        "    nhelix = np.sum(state)\n",
        "    return SIGMA * math.pow(s_temp, nhelix)\n",
        "\n",
        "def compute_free_energy(state, temp):\n",
        "    s_temp = get_s_temp(temp)\n",
        "    penalty = calc_penalty(state, s_temp)\n",
        "    energy = -R*temp*math.log(penalty)\n",
        "    return energy"
      ]
    },
    {
      "cell_type": "code",
      "execution_count": 418,
      "metadata": {
        "id": "CnzsSOj1xvAt"
      },
      "outputs": [],
      "source": [
        "def metropolis_criterion(dE, T=298):\n",
        "    R = 8.314\n",
        "    if dE > 0:\n",
        "        w=np.exp(-dE/(R*T))\n",
        "    else:\n",
        "        w=1\n",
        "    return w"
      ]
    },
    {
      "cell_type": "code",
      "execution_count": 419,
      "metadata": {},
      "outputs": [],
      "source": [
        "from Levenshtein import distance \n",
        "\n",
        "def get_key(state):\n",
        "    return ''.join([str(i) for i in state])\n",
        "\n",
        "def generate_ssa_seqs(nres):\n",
        "    seqs = []\n",
        "\n",
        "    for start in range(nres):\n",
        "        for end in range(nres):\n",
        "            seq = [0]*nres\n",
        "            if start <= end:\n",
        "                seq[start:end+1] = [1]*(end-start+1)\n",
        "            seq = ''.join([str(i) for i in seq])\n",
        "            seqs.append(seq)\n",
        "    return list(set(seqs))\n",
        "\n",
        "def get_distance(seq1, seq2):\n",
        "    dist = distance(seq1, seq2)\n",
        "    return dist\n",
        "\n",
        "def neighbours(seq, total_seqs):\n",
        "    nlist = []\n",
        "    for i in total_seqs:\n",
        "        if get_distance(seq, i) == 1:\n",
        "            temp = list(i)\n",
        "            temp = [int(i) for i in temp]\n",
        "            nlist.append(temp)\n",
        "    return nlist\n",
        "\n",
        "def generate_neighbour_list(total_seqs):\n",
        "    neighbour_dict = {}\n",
        "    for i in total_seqs:\n",
        "        neighbour_dict[i] = neighbours(i, total_seqs)\n",
        "    return neighbour_dict"
      ]
    },
    {
      "cell_type": "code",
      "execution_count": 420,
      "metadata": {},
      "outputs": [],
      "source": [
        "def get_route(routes):\n",
        "    route = []\n",
        "    for i in routes:\n",
        "        if i not in route:\n",
        "            route.append(i)\n",
        "    return route\n"
      ]
    },
    {
      "cell_type": "code",
      "execution_count": null,
      "metadata": {
        "id": "9Gnc405MxvAt"
      },
      "outputs": [],
      "source": [
        "def monte_carlo_folding(n, steps=100000, temp = 298):\n",
        "    # microstates = generate_microstates(n)\n",
        "    microstates = generate_ssa_seqs(n)\n",
        "    neighbour_dict = generate_neighbour_list(microstates)\n",
        "    state_energy = {state: compute_free_energy(state, temp) for state in microstates}\n",
        "    # print('state_energy', state_energy)\n",
        "    start_state = ''.join(['0']*n)\n",
        "    # print('start state', start_state)\n",
        "    # print(microstates)\n",
        "    macrostates = []\n",
        "    routes = []\n",
        "    current_state = start_state\n",
        "    for i in range(steps):\n",
        "        #print(i)\n",
        "        path = []\n",
        "        if current_state != '1'*n:\n",
        "           # print(state)\n",
        "            #neighbors = get_neighbors(state, microstates)\n",
        "            #if not neighbors:\n",
        "             #   break\n",
        "            #print(current_state)\n",
        "            accessibles = neighbour_dict[get_key(current_state)]\n",
        "            # print(accessibles)\n",
        "            for state in accessibles:\n",
        "                #chosen_state = min(neighbors, key=lambda s: state_energy[s])\n",
        "                next_state=get_key(state)\n",
        "                dE = state_energy[next_state] - state_energy[current_state]\n",
        "                temp_lst = [int(i) for i in current_state]\n",
        "                nhelix = sum(temp_lst)\n",
        "                # print('delta', dE)  \n",
        "                w=metropolis_criterion(dE, temp)\n",
        "                if w <= 1:\n",
        "                    if np.random.rand() < w :\n",
        "                        current_state = next_state\n",
        "                        path.append(current_state)\n",
        "                else:\n",
        "                    current_state = next_state\n",
        "                    path.append(current_state)\n",
        "        else:\n",
        "            break\n",
        "        # print(path)\n",
        "        temp_lst = [int(i) for i in current_state]\n",
        "        nhelix = sum(temp_lst)\n",
        "        macrostates.append(nhelix)\n",
        "        routes.append(path)\n",
        "        if i % 10000 == 0:\n",
        "            print(f'{i} steps completed')\n",
        "\n",
        "    return routes, macrostates"
      ]
    },
    {
      "cell_type": "code",
      "execution_count": 422,
      "metadata": {
        "id": "BBNdnqSwxvAv",
        "outputId": "9e0c179e-eaeb-416a-8ad2-ac5e7892734e"
      },
      "outputs": [
        {
          "name": "stdout",
          "output_type": "stream",
          "text": [
            "0 steps completed\n",
            "Estimated number of microscopic folding routes: 333\n"
          ]
        }
      ],
      "source": [
        "num_routes, macrostates = monte_carlo_folding(15)\n",
        "print(f\"Estimated number of microscopic folding routes: {len(num_routes)}\")"
      ]
    },
    {
      "cell_type": "code",
      "execution_count": 423,
      "metadata": {},
      "outputs": [
        {
          "name": "stdout",
          "output_type": "stream",
          "text": [
            "[['000000000001000', '001000000000000', '000000010000000', '000000000000001', '000001000000000', '100000000000000', '000000100000000', '000010000000000', '000100000000000', '010000000000000', '000000000000100', '000000000100000', '000000001000000', '000000000010000', '000000000000010'], ['000000000000011', '000000000000110', '000000000000000'], ['000000000000011', '000000000000110'], ['000000000001110', '000000000000111', '000000000000100', '000000000000010'], ['000000000001110', '000000000000111', '000000000000010'], ['000000000001110', '000000000000111'], ['000000000000110', '000000000001111'], ['000000000000111', '000000000011111'], ['000000000011110', '000000000001111', '000000000111111'], ['000000000111110', '000000001111111', '000000000011111'], ['000000001111111'], ['000000000111111', '000000011111111', '000000001111110'], ['000000000111110', '000000001111111', '000000001111100', '000000011111110'], ['000000011111111', '000000111111110', '000000001111110', '000000011111100'], ['000000111111100', '000000011111110'], ['000000011111111', '000000111111110', '000000011111100'], ['000000111111100', '000000011111110', '000000011111000'], ['000000111111000', '000000001111000', '000000011111100', '000000011110000'], ['000000001110000', '000000111110000', '000000011100000', '000000011111000'], ['000000111111000', '000000001111000', '000000011111100'], ['000000111111100', '000000001111100', '000000011111110', '000000011111000'], ['000000111110000', '000000011100000', '000000011111000'], ['000000111111000', '000000011111100', '000000011110000'], ['000000111110000', '000000011111000'], ['000000001110000', '000000111110000', '000000011111000'], ['000000111111100', '000000001111100', '000000011111110'], ['000000111111000', '000000011111100'], ['000000011111111', '000000111111110'], ['000000111111100', '000001111111110', '000000011111110', '000000111111111'], ['000001111111111', '000000011111111', '000000111111110'], ['000001111111110', '000000111111111'], ['000001111111111', '000000111111110'], ['000001111111111'], ['000001111111110', '000000111111111', '000011111111111'], ['000001111111111', '000011111111110', '000111111111111'], ['000111111111110', '000011111111111', '001111111111111'], ['001111111111110', '000111111111111', '011111111111111'], ['011111111111110', '111111111111111']]\n"
          ]
        }
      ],
      "source": [
        "route = get_route(num_routes)\n",
        "print(route)"
      ]
    },
    {
      "cell_type": "code",
      "execution_count": 424,
      "metadata": {},
      "outputs": [
        {
          "data": {
            "image/png": "[encoded data removed]",
            "text/plain": [
              "<Figure size 640x480 with 1 Axes>"
            ]
          },
          "metadata": {},
          "output_type": "display_data"
        }
      ],
      "source": [
        "import matplotlib.pyplot as plt\n",
        "\n",
        "plt.plot(macrostates)\n",
        "plt.xlabel('Step')\n",
        "plt.ylabel('Number of helices') \n",
        "plt.title('Test folding for 15 residues')\n",
        "plt.grid()\n",
        "plt.show()"
      ]
    },
    {
      "cell_type": "code",
      "execution_count": 425,
      "metadata": {
        "id": "JveNOKn2xvAy",
        "outputId": "6bd2fbbd-5e0b-4c70-e54b-83e7beb088c7"
      },
      "outputs": [
        {
          "data": {
            "text/plain": [
              "{(0, 0, 0),\n",
              " (0, 0, 1),\n",
              " (0, 1, 0),\n",
              " (0, 1, 1),\n",
              " (1, 0, 0),\n",
              " (1, 0, 1),\n",
              " (1, 1, 0),\n",
              " (1, 1, 1)}"
            ]
          },
          "execution_count": 425,
          "metadata": {},
          "output_type": "execute_result"
        }
      ],
      "source": [
        "generate_microstates(3)"
      ]
    }
  ],
  "metadata": {
    "colab": {
      "provenance": []
    },
    "kernelspec": {
      "display_name": "Python 3",
      "language": "python",
      "name": "python3"
    },
    "language_info": {
      "codemirror_mode": {
        "name": "ipython",
        "version": 3
      },
      "file_extension": ".py",
      "mimetype": "text/x-python",
      "name": "python",
      "nbconvert_exporter": "python",
      "pygments_lexer": "ipython3",
      "version": "3.12.7"
    }
  },
  "nbformat": 4,
  "nbformat_minor": 0
}
