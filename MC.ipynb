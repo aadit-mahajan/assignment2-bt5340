{
  "cells": [
    {
      "cell_type": "code",
      "execution_count": null,
      "metadata": {
        "id": "x9dl-QvnxvAk"
      },
      "outputs": [],
      "source": [
        "import numpy as np\n",
        "import math\n",
        "#import itertools"
      ]
    },
    {
      "cell_type": "code",
      "execution_count": null,
      "metadata": {
        "id": "Ssc4haJFxvAq"
      },
      "outputs": [],
      "source": [
        "def generate_microstates(n):\n",
        "    states = [list(format(i, f'0{n}b')) for i in range(2**n)]\n",
        "    return {tuple(map(int, state)) for state in states}\n",
        "    #return states"
      ]
    },
    {
      "cell_type": "code",
      "execution_count": null,
      "metadata": {
        "id": "4bqgndnExvAs"
      },
      "outputs": [],
      "source": [
        "def compute_free_energy(state):\n",
        "    \n",
        "    return -np.sum(state)"
      ]
    },
    {
      "cell_type": "code",
      "execution_count": null,
      "metadata": {
        "id": "CnzsSOj1xvAt"
      },
      "outputs": [],
      "source": [
        "def metropolis_criterion(dE, T=298):\n",
        "    k_B = 1.987e-3\n",
        "    if dE > 0:\n",
        "        w=np.exp(-dE / (k_B*T))\n",
        "    else:\n",
        "        w=1\n",
        "    return w"
      ]
    },
    {
      "cell_type": "code",
      "execution_count": null,
      "metadata": {
        "id": "Y_ySddJhxvAt"
      },
      "outputs": [],
      "source": [
        "def get_neighbors(state, valid_states):\n",
        "    neighbors = []\n",
        "    for i in range(len(state)):\n",
        "        new_state = list(state)\n",
        "        new_state[i] = 1 - new_state[i]\n",
        "        new_tuple = tuple(new_state)\n",
        "        if new_tuple in valid_states:\n",
        "            neighbors.append(new_tuple)\n",
        "    return neighbors"
      ]
    },
    {
      "cell_type": "code",
      "execution_count": null,
      "metadata": {
        "id": "9Gnc405MxvAt"
      },
      "outputs": [],
      "source": [
        "def monte_carlo_folding(n, steps=1):\n",
        "    microstates = generate_microstates(n)\n",
        "    state_energy = {state: compute_free_energy(state) for state in microstates}\n",
        "    start_state = tuple([0] * n)\n",
        "    print(microstates)\n",
        "    routes = []\n",
        "    for i in range(steps):\n",
        "        #print(i)\n",
        "        current_state = start_state\n",
        "        path = []\n",
        "        while current_state != tuple([1] * n):\n",
        "           # print(state)\n",
        "            #neighbors = get_neighbors(state, microstates)\n",
        "            #if not neighbors:\n",
        "             #   break\n",
        "            #print(current_state)\n",
        "            for state in microstates:\n",
        "                #chosen_state = min(neighbors, key=lambda s: state_energy[s])\n",
        "                next_state=state\n",
        "                dE = state_energy[current_state] - state_energy[next_state]\n",
        "\n",
        "            #print(dE)\n",
        "                w=metropolis_criterion(dE)\n",
        "                if w <= 1 :\n",
        "                    if np.random.rand() < w :\n",
        "                        current_state = next_state\n",
        "                        path.append(current_state)\n",
        "        routes.append(path)\n",
        "        print(i)\n",
        "    return routes"
      ]
    },
    {
      "cell_type": "code",
      "execution_count": null,
      "metadata": {
        "id": "BBNdnqSwxvAv",
        "outputId": "9e0c179e-eaeb-416a-8ad2-ac5e7892734e"
      },
      "outputs": [
        {
          "name": "stdout",
          "output_type": "stream",
          "text": [
            "{(1, 0, 1), (1, 1, 0), (0, 1, 0), (0, 0, 0), (1, 0, 0), (0, 0, 1), (1, 1, 1), (0, 1, 1)}\n"
          ]
        },
        {
          "ename": "KeyboardInterrupt",
          "evalue": "",
          "output_type": "error",
          "traceback": [
            "\u001b[0;31m---------------------------------------------------------------------------\u001b[0m",
            "\u001b[0;31mKeyboardInterrupt\u001b[0m                         Traceback (most recent call last)",
            "Cell \u001b[0;32mIn[137], line 1\u001b[0m\n\u001b[0;32m----> 1\u001b[0m num_routes \u001b[38;5;241m=\u001b[39m monte_carlo_folding(\u001b[38;5;241m3\u001b[39m)\n\u001b[1;32m      2\u001b[0m \u001b[38;5;28mprint\u001b[39m(\u001b[38;5;124mf\u001b[39m\u001b[38;5;124m\"\u001b[39m\u001b[38;5;124mEstimated number of microscopic folding routes: \u001b[39m\u001b[38;5;132;01m{\u001b[39;00m\u001b[38;5;28mlen\u001b[39m(num_routes)\u001b[38;5;132;01m}\u001b[39;00m\u001b[38;5;124m\"\u001b[39m)\n",
            "Cell \u001b[0;32mIn[128], line 23\u001b[0m, in \u001b[0;36mmonte_carlo_folding\u001b[0;34m(n, steps)\u001b[0m\n\u001b[1;32m     20\u001b[0m     dE \u001b[38;5;241m=\u001b[39m state_energy[current_state] \u001b[38;5;241m-\u001b[39m state_energy[next_state]\n\u001b[1;32m     22\u001b[0m \u001b[38;5;66;03m#print(dE)\u001b[39;00m\n\u001b[0;32m---> 23\u001b[0m     w\u001b[38;5;241m=\u001b[39mmetropolis_criterion(dE)\n\u001b[1;32m     24\u001b[0m     \u001b[38;5;28;01mif\u001b[39;00m w \u001b[38;5;241m<\u001b[39m\u001b[38;5;241m=\u001b[39m \u001b[38;5;241m1\u001b[39m :\n\u001b[1;32m     25\u001b[0m         \u001b[38;5;28;01mif\u001b[39;00m np\u001b[38;5;241m.\u001b[39mrandom\u001b[38;5;241m.\u001b[39mrand() \u001b[38;5;241m<\u001b[39m w :\n",
            "Cell \u001b[0;32mIn[11], line 4\u001b[0m, in \u001b[0;36mmetropolis_criterion\u001b[0;34m(dE, T)\u001b[0m\n\u001b[1;32m      2\u001b[0m k_B \u001b[38;5;241m=\u001b[39m \u001b[38;5;241m1.987e-3\u001b[39m \n\u001b[1;32m      3\u001b[0m \u001b[38;5;28;01mif\u001b[39;00m dE \u001b[38;5;241m>\u001b[39m \u001b[38;5;241m0\u001b[39m:\n\u001b[0;32m----> 4\u001b[0m     w\u001b[38;5;241m=\u001b[39mnp\u001b[38;5;241m.\u001b[39mexp(\u001b[38;5;241m-\u001b[39mdE \u001b[38;5;241m/\u001b[39m (k_B\u001b[38;5;241m*\u001b[39mT))\n\u001b[1;32m      5\u001b[0m \u001b[38;5;28;01melse\u001b[39;00m:\n\u001b[1;32m      6\u001b[0m     w\u001b[38;5;241m=\u001b[39m\u001b[38;5;241m1\u001b[39m\n",
            "\u001b[0;31mKeyboardInterrupt\u001b[0m: "
          ]
        }
      ],
      "source": [
        "num_routes = monte_carlo_folding(3)\n",
        "print(f\"Estimated number of microscopic folding routes: {len(num_routes)}\")"
      ]
    },
    {
      "cell_type": "code",
      "execution_count": null,
      "metadata": {
        "id": "E1V0YudqxvAw",
        "outputId": "81d1cfcf-a36e-4678-bfe2-146b1a276339"
      },
      "outputs": [
        {
          "data": {
            "text/plain": [
              "32"
            ]
          },
          "execution_count": 136,
          "metadata": {},
          "output_type": "execute_result"
        }
      ],
      "source": [
        "2**5"
      ]
    },
    {
      "cell_type": "code",
      "execution_count": null,
      "metadata": {
        "id": "JveNOKn2xvAy",
        "outputId": "6bd2fbbd-5e0b-4c70-e54b-83e7beb088c7"
      },
      "outputs": [
        {
          "data": {
            "text/plain": [
              "{(0, 0, 0),\n",
              " (0, 0, 1),\n",
              " (0, 1, 0),\n",
              " (0, 1, 1),\n",
              " (1, 0, 0),\n",
              " (1, 0, 1),\n",
              " (1, 1, 0),\n",
              " (1, 1, 1)}"
            ]
          },
          "execution_count": 135,
          "metadata": {},
          "output_type": "execute_result"
        }
      ],
      "source": [
        "generate_microstates(3)"
      ]
    },
    {
      "cell_type": "code",
      "execution_count": null,
      "metadata": {
        "id": "n7_aREHexvAy"
      },
      "outputs": [],
      "source": []
    }
  ],
  "metadata": {
    "colab": {
      "provenance": []
    },
    "kernelspec": {
      "display_name": "base",
      "language": "python",
      "name": "python3"
    },
    "language_info": {
      "codemirror_mode": {
        "name": "ipython",
        "version": 3
      },
      "file_extension": ".py",
      "mimetype": "text/x-python",
      "name": "python",
      "nbconvert_exporter": "python",
      "pygments_lexer": "ipython3",
      "version": "3.11.10"
    }
  },
  "nbformat": 4,
  "nbformat_minor": 0
}
