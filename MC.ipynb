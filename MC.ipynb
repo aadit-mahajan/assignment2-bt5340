{
  "cells": [
    {
      "cell_type": "code",
      "execution_count": 190,
      "metadata": {
        "id": "x9dl-QvnxvAk"
      },
      "outputs": [],
      "source": [
        "import numpy as np\n",
        "import math\n",
        "import random\n",
        "import matplotlib.pyplot as plt\n",
        "plt.style.use('seaborn-v0_8-bright')"
      ]
    },
    {
      "cell_type": "code",
      "execution_count": 191,
      "metadata": {
        "id": "Ssc4haJFxvAq"
      },
      "outputs": [],
      "source": [
        "def generate_microstates(n):\n",
        "    states = [list(format(i, f'0{n}b')) for i in range(2**n)]\n",
        "    return {tuple(map(int, state)) for state in states}\n",
        "    #return states"
      ]
    },
    {
      "cell_type": "code",
      "execution_count": 192,
      "metadata": {
        "id": "4bqgndnExvAs"
      },
      "outputs": [],
      "source": [
        "# constants \n",
        "S_REF = 1.2\n",
        "T_REF = 298\n",
        "SIGMA = 0.001\n",
        "R = 8.314\n",
        "LO_THRESH = 2   # lower threshold for number of ordered residues to consider as start of folding path. \n",
        "\n",
        "\n",
        "def get_s_temp(temp, s_ref=S_REF):\n",
        "    # get the s value at the given temperature\n",
        "    s = math.pow(s_ref, (T_REF/temp))\n",
        "    return s\n",
        "\n",
        "def calc_penalty(state, s_temp):\n",
        "    # calc penalty for the given state as sigma*s^nhelix\n",
        "    state = [1 if int(i) == 1 else 0 for i in state]\n",
        "    nhelix = np.sum(state)\n",
        "    return SIGMA * math.pow(s_temp, nhelix)\n",
        "\n",
        "def compute_free_energy(state, temp):\n",
        "    # calc free energy of the state\n",
        "    s_temp = get_s_temp(temp)\n",
        "    penalty = calc_penalty(state, s_temp)\n",
        "    energy = -R*temp*math.log(penalty)\n",
        "    return energy"
      ]
    },
    {
      "cell_type": "code",
      "execution_count": 193,
      "metadata": {
        "id": "CnzsSOj1xvAt"
      },
      "outputs": [],
      "source": [
        "def get_sw(dE, T=298):\n",
        "    # calculates the statistical weight \n",
        "    R = 8.314\n",
        "    w = np.exp(-dE/(R*T))\n",
        "    return w"
      ]
    },
    {
      "cell_type": "code",
      "execution_count": 194,
      "metadata": {},
      "outputs": [],
      "source": [
        "from Levenshtein import distance \n",
        "\n",
        "# this code block can be ignored for now. \n",
        "def get_key(state):\n",
        "    return ''.join([str(i) for i in state])\n",
        "\n",
        "def generate_ssa_seqs(nres):\n",
        "    seqs = []\n",
        "\n",
        "    for start in range(nres):\n",
        "        for end in range(nres):\n",
        "            seq = [0]*nres\n",
        "            if start <= end:\n",
        "                seq[start:end+1] = [1]*(end-start+1)\n",
        "            seq = ''.join([str(i) for i in seq])\n",
        "            seqs.append(seq)\n",
        "    return list(set(seqs))\n",
        "\n",
        "def get_distance(seq1, seq2):\n",
        "    dist = distance(seq1, seq2)\n",
        "    return dist\n",
        "\n",
        "def neighbours(seq, total_seqs):\n",
        "    nlist = []\n",
        "    for i in total_seqs:\n",
        "        if get_distance(seq, i) == 1:\n",
        "            temp = list(i)\n",
        "            temp = [int(i) for i in temp]\n",
        "            nlist.append(temp)\n",
        "    return nlist\n",
        "\n",
        "def generate_neighbour_list(total_seqs):\n",
        "    neighbour_dict = {}\n",
        "    for i in total_seqs:\n",
        "        neighbour_dict[i] = neighbours(i, total_seqs)\n",
        "    return neighbour_dict"
      ]
    },
    {
      "cell_type": "code",
      "execution_count": 195,
      "metadata": {},
      "outputs": [],
      "source": [
        "def get_folding_route(path):\n",
        "    # finds the folding path using the generated path\n",
        "    reverse_path = path[::-1]\n",
        "    folding_path = []\n",
        "    for i in reverse_path:\n",
        "        helix = [int(j) for j in range(len(i)) if i[j] == '1']\n",
        "        if len(helix) < LO_THRESH:\n",
        "            break\n",
        "        else:\n",
        "            folding_path.append(i)\n",
        "\n",
        "    return folding_path[::-1]"
      ]
    },
    {
      "cell_type": "code",
      "execution_count": 196,
      "metadata": {},
      "outputs": [],
      "source": [
        "def check_if_allowed(curr_state, residue):\n",
        "    # # check if residue is helix or coil\n",
        "    # # if helix then check if it is on the edge of helix\n",
        "    # # if yes then return true\n",
        "    # # else return false\n",
        "\n",
        "    # # if coil then check if helix already exists\n",
        "    # # if yes then return false\n",
        "    # # if no then return true\n",
        "        \n",
        "    helix = [int(i) for i in range(len(curr_state)) if curr_state[i] == '1']\n",
        "    # print(helix)\n",
        "    if residue in helix:\n",
        "        if residue == helix[0] or residue == helix[-1]:\n",
        "            return True\n",
        "        else:\n",
        "            return False\n",
        "    else:\n",
        "        if len(helix) == 0:\n",
        "            return True\n",
        "        else:\n",
        "            if residue+1 == helix[0] or residue-1 == helix[-1]:\n",
        "                return True\n",
        "            else:\n",
        "                return False\n",
        "\n"
      ]
    },
    {
      "cell_type": "code",
      "execution_count": 197,
      "metadata": {
        "id": "9Gnc405MxvAt"
      },
      "outputs": [],
      "source": [
        "def monte_carlo_folding(n, steps=10000, temp = 298):\n",
        "    microstates = generate_ssa_seqs(n)\n",
        "    state_energy = {state: compute_free_energy(state, temp) for state in microstates}\n",
        "    # display(state_energy)\n",
        "    start_state = ''.join(['0']*n)\n",
        "    # print('start state', start_state)\n",
        "    # print(microstates)\n",
        "    macrostates = []\n",
        "    path = []\n",
        "    current_state = start_state\n",
        "    next_state = current_state\n",
        "    for i in range(steps):\n",
        "        path.append(current_state)\n",
        "        temp_lst = [int(i) for i in current_state]\n",
        "        nhelix = sum(temp_lst)\n",
        "        macrostates.append(nhelix)\n",
        "        if current_state != '1'*n:\n",
        "            # pick random neighbour\n",
        "            # print(current_state)\n",
        "            residue = random.randint(0, n-1)\n",
        "            # print(residue)\n",
        "            # check if after modifying residue in state, the state is in accessibles\n",
        "\n",
        "                #chosen_state = min(neighbors, key=lambda s: state_energy[s])\n",
        "            if check_if_allowed(current_state, residue):\n",
        "                next_state = current_state[:residue] + str(1-int(current_state[residue])) + current_state[residue+1:]\n",
        "                # print('next state', next_state)\n",
        "            else:\n",
        "                next_state = current_state\n",
        "                # path.append(current_state)\n",
        "                continue\n",
        "        \n",
        "            dE = state_energy[next_state] - state_energy[current_state] # compute energy difference\n",
        "            temp_lst = [int(i) for i in current_state]\n",
        "            nhelix = sum(temp_lst)\n",
        "            # print('delta', dE)  \n",
        "            w = get_sw(dE, temp)\n",
        "            \n",
        "            # if w > 1: move to next state\n",
        "            # if w <= 1: get random number r between 0 and 1 and if w >= r, move to next state\n",
        "            # else stay in current state\n",
        "\n",
        "            if w > 1:\n",
        "                current_state = next_state\n",
        "            else:\n",
        "                r = random.random()\n",
        "                if w >= r:\n",
        "                    current_state = next_state\n",
        "                else:\n",
        "                    pass\n",
        "            # path.append(current_state)\n",
        "            \n",
        "        else:\n",
        "            print(len(path), i)\n",
        "            break\n",
        "        # print(path)\n",
        "        if i % 10000 == 0:\n",
        "            print(f'{i} steps completed')\n",
        "\n",
        "    return path, macrostates"
      ]
    },
    {
      "cell_type": "code",
      "execution_count": 198,
      "metadata": {
        "id": "BBNdnqSwxvAv",
        "outputId": "9e0c179e-eaeb-416a-8ad2-ac5e7892734e"
      },
      "outputs": [
        {
          "name": "stdout",
          "output_type": "stream",
          "text": [
            "0 steps completed\n",
            "451 450\n",
            "Estimated number of microscopic folding routes: 451\n"
          ]
        }
      ],
      "source": [
        "path, macrostates = monte_carlo_folding(15)\n",
        "print(f\"Estimated number of microscopic folding routes: {len(path)}\")"
      ]
    },
    {
      "cell_type": "code",
      "execution_count": 199,
      "metadata": {},
      "outputs": [
        {
          "data": {
            "image/png": "[encoded data removed]",
            "text/plain": [
              "<Figure size 640x440 with 1 Axes>"
            ]
          },
          "metadata": {},
          "output_type": "display_data"
        }
      ],
      "source": [
        "# plotting the folding path\n",
        "folding_path = get_folding_route(path)\n",
        "folding_macrostates = []\n",
        "for state in folding_path:\n",
        "    temp_lst = [int(i) for i in state]\n",
        "    nhelix = sum(temp_lst)\n",
        "    folding_macrostates.append(nhelix)\n",
        "\n",
        "\n",
        "plt.plot(macrostates, color='blue')\n",
        "plt.plot(range(len(macrostates)-len(folding_macrostates), len(macrostates)), folding_macrostates, color='red')\n",
        "plt.legend(['All states', 'Folding states'])\n",
        "plt.xlabel('Steps')\n",
        "plt.ylabel('Number of helices') \n",
        "plt.title('Test folding for 15 residues')\n",
        "plt.grid()\n",
        "plt.show()"
      ]
    },
    {
      "cell_type": "code",
      "execution_count": 200,
      "metadata": {},
      "outputs": [
        {
          "name": "stdout",
          "output_type": "stream",
          "text": [
            "Counter({11: 40, 12: 33, 10: 30, 5: 27, 13: 16, 14: 15, 6: 12, 7: 10, 2: 7, 4: 6, 9: 5, 3: 3, 8: 2, 15: 1})\n"
          ]
        }
      ],
      "source": [
        "from collections import Counter\n",
        "print(Counter(folding_macrostates))"
      ]
    },
    {
      "cell_type": "code",
      "execution_count": null,
      "metadata": {},
      "outputs": [],
      "source": []
    }
  ],
  "metadata": {
    "colab": {
      "provenance": []
    },
    "kernelspec": {
      "display_name": "Python 3",
      "language": "python",
      "name": "python3"
    },
    "language_info": {
      "codemirror_mode": {
        "name": "ipython",
        "version": 3
      },
      "file_extension": ".py",
      "mimetype": "text/x-python",
      "name": "python",
      "nbconvert_exporter": "python",
      "pygments_lexer": "ipython3",
      "version": "3.12.7"
    }
  },
  "nbformat": 4,
  "nbformat_minor": 0
}
